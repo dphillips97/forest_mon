{
 "cells": [
  {
   "cell_type": "code",
   "execution_count": 2,
   "metadata": {
    "ExecuteTime": {
     "end_time": "2020-11-25T20:10:31.223330Z",
     "start_time": "2020-11-25T20:10:31.173956Z"
    }
   },
   "outputs": [],
   "source": [
    "from secret_codes import *\n",
    "\n",
    "import psycopg2"
   ]
  },
  {
   "cell_type": "code",
   "execution_count": 3,
   "metadata": {
    "ExecuteTime": {
     "end_time": "2020-11-25T20:10:31.956900Z",
     "start_time": "2020-11-25T20:10:31.877099Z"
    }
   },
   "outputs": [],
   "source": [
    "# Create connection to test database\n",
    "conn = psycopg2.connect(user=\"postgres\",\n",
    "                        password=PG_PASS,\n",
    "                        host=\"localhost\",\n",
    "                        port=5432,\n",
    "                        database=\"forest_test\")"
   ]
  },
  {
   "cell_type": "code",
   "execution_count": 4,
   "metadata": {
    "ExecuteTime": {
     "end_time": "2020-11-25T20:10:33.359991Z",
     "start_time": "2020-11-25T20:10:33.352013Z"
    }
   },
   "outputs": [],
   "source": [
    "# Open cursor\n",
    "cur = conn.cursor()"
   ]
  },
  {
   "cell_type": "code",
   "execution_count": 4,
   "metadata": {
    "ExecuteTime": {
     "end_time": "2020-11-25T18:46:01.547236Z",
     "start_time": "2020-11-25T18:46:01.497057Z"
    }
   },
   "outputs": [],
   "source": [
    "# Clean everything\n",
    "cur.execute(\"DROP TABLE IF EXISTS forest_info, metrics, images, locations CASCADE;\")\n",
    "\n",
    "conn.commit()"
   ]
  },
  {
   "cell_type": "code",
   "execution_count": 6,
   "metadata": {
    "ExecuteTime": {
     "end_time": "2020-11-25T18:46:58.807514Z",
     "start_time": "2020-11-25T18:46:58.520741Z"
    }
   },
   "outputs": [],
   "source": [
    "# Create table 1 with forest info(T1)\n",
    "cur.execute(\"\"\"CREATE TABLE forest_info (forest_id SERIAL PRIMARY KEY,\n",
    "                                        forest_name VARCHAR,\n",
    "                                        is_active BOOLEAN,\n",
    "                                        date_added TIMESTAMP WITH TIME ZONE default current_timestamp,\n",
    "                                        date_planted DATE,\n",
    "                                        geom geometry(POLYGON,4326)\n",
    "                                        );\"\"\"\n",
    "            )\n",
    "\n",
    "conn.commit()"
   ]
  },
  {
   "cell_type": "code",
   "execution_count": 8,
   "metadata": {
    "ExecuteTime": {
     "end_time": "2020-11-25T18:47:28.869947Z",
     "start_time": "2020-11-25T18:47:28.856981Z"
    }
   },
   "outputs": [],
   "source": [
    "# Create auto-update trigger for date_added in T1\n",
    "cur.execute(\"\"\"CREATE OR REPLACE FUNCTION func_forest_date_added()\n",
    "                RETURNS TRIGGER AS $$\n",
    "                BEGIN\n",
    "                    NEW.date_added = now();\n",
    "                    RETURN NEW;\n",
    "                END;\n",
    "                $$ language 'plpgsql';\"\"\"\n",
    "            )\n",
    "\n",
    "# Create the trigger\n",
    "cur.execute(\"\"\"CREATE TRIGGER trig_forest_date_added\n",
    "                BEFORE UPDATE ON forest_info\n",
    "                FOR EACH ROW EXECUTE PROCEDURE func_forest_date_added();\"\"\"\n",
    "            )\n",
    "conn.commit()"
   ]
  },
  {
   "cell_type": "code",
   "execution_count": null,
   "metadata": {
    "ExecuteTime": {
     "end_time": "2020-11-25T17:40:48.900725Z",
     "start_time": "2020-11-25T17:40:48.876789Z"
    }
   },
   "outputs": [],
   "source": [
    "# Create table 2 (T2)\n",
    "cur.execute(\"\"\"CREATE TABLE metrics (metric_id INT PRIMARY KEY,\n",
    "                                    forest_id INT,\n",
    "                                    ndvi REAL,\n",
    "                                    calc_date TIMESTAMP,\n",
    "                                    CONSTRAINT fk_forest_id\n",
    "                                        FOREIGN KEY(forest_id)\n",
    "                                            REFERENCES forest_info(forest_id)\n",
    "                                    );\"\"\"\n",
    "            )"
   ]
  },
  {
   "cell_type": "code",
   "execution_count": null,
   "metadata": {
    "ExecuteTime": {
     "end_time": "2020-11-23T23:16:33.397571Z",
     "start_time": "2020-11-23T23:16:33.212585Z"
    }
   },
   "outputs": [],
   "source": [
    "# Create table 3\n",
    "cur.execute(\"\"\"CREATE TABLE images (images_id INT GENERATED ALWAYS AS IDENTITY,\n",
    "                                    forest_id INT,\n",
    "                                    r_band_url VARCHAR,\n",
    "                                    g_band_url VARCHAR,\n",
    "                                    b_band_url VARCHAR,\n",
    "                                    scene_date TIMESTAMP WITH TIME ZONE,\n",
    "                                    CONSTRAINT fk_forest_id\n",
    "                                            FOREIGN KEY(forest_id)\n",
    "                                                REFERENCES forest_info(forest_id)\n",
    "                                    );\"\"\"\n",
    "           )"
   ]
  },
  {
   "cell_type": "code",
   "execution_count": 5,
   "metadata": {
    "ExecuteTime": {
     "end_time": "2020-11-25T20:10:38.889141Z",
     "start_time": "2020-11-25T20:10:38.629334Z"
    }
   },
   "outputs": [],
   "source": [
    "# Create table 4\n",
    "cur.execute(\"\"\"CREATE TABLE locations (locations_id INT GENERATED ALWAYS AS IDENTITY,\n",
    "                                        forest_id INT,\n",
    "                                        loc_sys VARCHAR,\n",
    "                                        loc_val VARCHAR,\n",
    "                                        CONSTRAINT fk_forest_id\n",
    "                                                FOREIGN KEY(forest_id)\n",
    "                                                    REFERENCES forest_info(forest_id)\n",
    "                                        );\"\"\"\n",
    "           )"
   ]
  },
  {
   "cell_type": "code",
   "execution_count": 6,
   "metadata": {
    "ExecuteTime": {
     "end_time": "2020-11-25T20:10:40.089232Z",
     "start_time": "2020-11-25T20:10:40.068276Z"
    }
   },
   "outputs": [],
   "source": [
    "conn.commit()"
   ]
  },
  {
   "cell_type": "code",
   "execution_count": null,
   "metadata": {
    "ExecuteTime": {
     "end_time": "2020-11-23T23:16:52.096637Z",
     "start_time": "2020-11-23T23:16:52.081015Z"
    }
   },
   "outputs": [],
   "source": [
    "conn.close()"
   ]
  },
  {
   "cell_type": "code",
   "execution_count": null,
   "metadata": {
    "ExecuteTime": {
     "end_time": "2020-11-25T17:40:53.661591Z",
     "start_time": "2020-11-25T17:40:53.643638Z"
    }
   },
   "outputs": [],
   "source": [
    "cur.execute(\"ROLLBACK;\")"
   ]
  }
 ],
 "metadata": {
  "kernelspec": {
   "display_name": "Python 3",
   "language": "python",
   "name": "python3"
  },
  "language_info": {
   "codemirror_mode": {
    "name": "ipython",
    "version": 3
   },
   "file_extension": ".py",
   "mimetype": "text/x-python",
   "name": "python",
   "nbconvert_exporter": "python",
   "pygments_lexer": "ipython3",
   "version": "3.7.9"
  },
  "varInspector": {
   "cols": {
    "lenName": 16,
    "lenType": 16,
    "lenVar": 40
   },
   "kernels_config": {
    "python": {
     "delete_cmd_postfix": "",
     "delete_cmd_prefix": "del ",
     "library": "var_list.py",
     "varRefreshCmd": "print(var_dic_list())"
    },
    "r": {
     "delete_cmd_postfix": ") ",
     "delete_cmd_prefix": "rm(",
     "library": "var_list.r",
     "varRefreshCmd": "cat(var_dic_list()) "
    }
   },
   "types_to_exclude": [
    "module",
    "function",
    "builtin_function_or_method",
    "instance",
    "_Feature"
   ],
   "window_display": false
  }
 },
 "nbformat": 4,
 "nbformat_minor": 4
}

{
 "cells": [
  {
   "cell_type": "code",
   "execution_count": 2,
   "metadata": {
    "ExecuteTime": {
     "end_time": "2020-12-03T22:05:53.046077Z",
     "start_time": "2020-12-03T22:05:46.178309Z"
    }
   },
   "outputs": [],
   "source": [
    "# General\n",
    "import os\n",
    "import shutil\n",
    "from pathlib import Path\n",
    "import pandas as pd\n",
    "\n",
    "# Web scraping\n",
    "import requests as rq\n",
    "from bs4 import BeautifulSoup"
   ]
  },
  {
   "cell_type": "code",
   "execution_count": 3,
   "metadata": {
    "ExecuteTime": {
     "end_time": "2020-12-03T22:05:53.083835Z",
     "start_time": "2020-12-03T22:05:53.068249Z"
    }
   },
   "outputs": [],
   "source": [
    "# Set max col width to see URLs\n",
    "pd.set_option('display.max_colwidth', None)"
   ]
  },
  {
   "cell_type": "code",
   "execution_count": 4,
   "metadata": {
    "ExecuteTime": {
     "end_time": "2020-12-03T22:06:13.963761Z",
     "start_time": "2020-12-03T22:05:53.106971Z"
    }
   },
   "outputs": [],
   "source": [
    "# Check available Landsat-8 scenes from Amazon S3\n",
    "s3_scenes = pd.read_csv('http://landsat-pds.s3.amazonaws.com/c1/L8/scene_list.gz', compression='gzip')"
   ]
  },
  {
   "cell_type": "code",
   "execution_count": 5,
   "metadata": {
    "ExecuteTime": {
     "end_time": "2020-12-03T22:06:18.362974Z",
     "start_time": "2020-12-03T22:06:14.064002Z"
    }
   },
   "outputs": [],
   "source": [
    "# Filter scenes to get only those we want\n",
    "filter_scenes = s3_scenes[(s3_scenes.path == 149) &\n",
    "                         (s3_scenes.row == 38) & \n",
    "                         (~s3_scenes.productId.str.contains(\"_T2\")) &\n",
    "                         (~s3_scenes.productId.str.contains(\"_RT\"))]"
   ]
  },
  {
   "cell_type": "code",
   "execution_count": 7,
   "metadata": {
    "ExecuteTime": {
     "end_time": "2020-12-03T22:06:29.905340Z",
     "start_time": "2020-12-03T22:06:29.867678Z"
    }
   },
   "outputs": [
    {
     "data": {
      "text/html": [
       "<div>\n",
       "<style scoped>\n",
       "    .dataframe tbody tr th:only-of-type {\n",
       "        vertical-align: middle;\n",
       "    }\n",
       "\n",
       "    .dataframe tbody tr th {\n",
       "        vertical-align: top;\n",
       "    }\n",
       "\n",
       "    .dataframe thead th {\n",
       "        text-align: right;\n",
       "    }\n",
       "</style>\n",
       "<table border=\"1\" class=\"dataframe\">\n",
       "  <thead>\n",
       "    <tr style=\"text-align: right;\">\n",
       "      <th></th>\n",
       "      <th>productId</th>\n",
       "      <th>entityId</th>\n",
       "      <th>acquisitionDate</th>\n",
       "      <th>cloudCover</th>\n",
       "      <th>processingLevel</th>\n",
       "      <th>path</th>\n",
       "      <th>row</th>\n",
       "      <th>min_lat</th>\n",
       "      <th>min_lon</th>\n",
       "      <th>max_lat</th>\n",
       "      <th>max_lon</th>\n",
       "      <th>download_url</th>\n",
       "    </tr>\n",
       "  </thead>\n",
       "  <tbody>\n",
       "    <tr>\n",
       "      <th>2143782</th>\n",
       "      <td>LC08_L1TP_149038_20201028_20201106_01_T1</td>\n",
       "      <td>LC81490382020302LGN00</td>\n",
       "      <td>2020-10-28 05:36:55.374455</td>\n",
       "      <td>0.02</td>\n",
       "      <td>L1TP</td>\n",
       "      <td>149</td>\n",
       "      <td>38</td>\n",
       "      <td>30.66000</td>\n",
       "      <td>72.79719</td>\n",
       "      <td>32.78319</td>\n",
       "      <td>75.26100</td>\n",
       "      <td>https://s3-us-west-2.amazonaws.com/landsat-pds/c1/L8/149/038/LC08_L1TP_149038_20201028_20201106_01_T1/index.html</td>\n",
       "    </tr>\n",
       "    <tr>\n",
       "      <th>2116637</th>\n",
       "      <td>LC08_L1TP_149038_20200926_20201007_01_T1</td>\n",
       "      <td>LC81490382020270LGN00</td>\n",
       "      <td>2020-09-26 05:36:53.547874</td>\n",
       "      <td>36.71</td>\n",
       "      <td>L1TP</td>\n",
       "      <td>149</td>\n",
       "      <td>38</td>\n",
       "      <td>30.65990</td>\n",
       "      <td>72.79079</td>\n",
       "      <td>32.78308</td>\n",
       "      <td>75.25473</td>\n",
       "      <td>https://s3-us-west-2.amazonaws.com/landsat-pds/c1/L8/149/038/LC08_L1TP_149038_20200926_20201007_01_T1/index.html</td>\n",
       "    </tr>\n",
       "    <tr>\n",
       "      <th>2099002</th>\n",
       "      <td>LC08_L1TP_149038_20200910_20200918_01_T1</td>\n",
       "      <td>LC81490382020254LGN00</td>\n",
       "      <td>2020-09-10 05:36:48.739707</td>\n",
       "      <td>0.16</td>\n",
       "      <td>L1TP</td>\n",
       "      <td>149</td>\n",
       "      <td>38</td>\n",
       "      <td>30.65995</td>\n",
       "      <td>72.79399</td>\n",
       "      <td>32.78314</td>\n",
       "      <td>75.26100</td>\n",
       "      <td>https://s3-us-west-2.amazonaws.com/landsat-pds/c1/L8/149/038/LC08_L1TP_149038_20200910_20200918_01_T1/index.html</td>\n",
       "    </tr>\n",
       "    <tr>\n",
       "      <th>2079687</th>\n",
       "      <td>LC08_L1TP_149038_20200825_20200905_01_T1</td>\n",
       "      <td>LC81490382020238LGN00</td>\n",
       "      <td>2020-08-25 05:36:41.783784</td>\n",
       "      <td>32.84</td>\n",
       "      <td>L1TP</td>\n",
       "      <td>149</td>\n",
       "      <td>38</td>\n",
       "      <td>30.66016</td>\n",
       "      <td>72.80680</td>\n",
       "      <td>32.78336</td>\n",
       "      <td>75.27039</td>\n",
       "      <td>https://s3-us-west-2.amazonaws.com/landsat-pds/c1/L8/149/038/LC08_L1TP_149038_20200825_20200905_01_T1/index.html</td>\n",
       "    </tr>\n",
       "  </tbody>\n",
       "</table>\n",
       "</div>"
      ],
      "text/plain": [
       "                                        productId               entityId  \\\n",
       "2143782  LC08_L1TP_149038_20201028_20201106_01_T1  LC81490382020302LGN00   \n",
       "2116637  LC08_L1TP_149038_20200926_20201007_01_T1  LC81490382020270LGN00   \n",
       "2099002  LC08_L1TP_149038_20200910_20200918_01_T1  LC81490382020254LGN00   \n",
       "2079687  LC08_L1TP_149038_20200825_20200905_01_T1  LC81490382020238LGN00   \n",
       "\n",
       "                    acquisitionDate  cloudCover processingLevel  path  row  \\\n",
       "2143782  2020-10-28 05:36:55.374455        0.02            L1TP   149   38   \n",
       "2116637  2020-09-26 05:36:53.547874       36.71            L1TP   149   38   \n",
       "2099002  2020-09-10 05:36:48.739707        0.16            L1TP   149   38   \n",
       "2079687  2020-08-25 05:36:41.783784       32.84            L1TP   149   38   \n",
       "\n",
       "          min_lat   min_lon   max_lat   max_lon  \\\n",
       "2143782  30.66000  72.79719  32.78319  75.26100   \n",
       "2116637  30.65990  72.79079  32.78308  75.25473   \n",
       "2099002  30.65995  72.79399  32.78314  75.26100   \n",
       "2079687  30.66016  72.80680  32.78336  75.27039   \n",
       "\n",
       "                                                                                                             download_url  \n",
       "2143782  https://s3-us-west-2.amazonaws.com/landsat-pds/c1/L8/149/038/LC08_L1TP_149038_20201028_20201106_01_T1/index.html  \n",
       "2116637  https://s3-us-west-2.amazonaws.com/landsat-pds/c1/L8/149/038/LC08_L1TP_149038_20200926_20201007_01_T1/index.html  \n",
       "2099002  https://s3-us-west-2.amazonaws.com/landsat-pds/c1/L8/149/038/LC08_L1TP_149038_20200910_20200918_01_T1/index.html  \n",
       "2079687  https://s3-us-west-2.amazonaws.com/landsat-pds/c1/L8/149/038/LC08_L1TP_149038_20200825_20200905_01_T1/index.html  "
      ]
     },
     "execution_count": 7,
     "metadata": {},
     "output_type": "execute_result"
    }
   ],
   "source": [
    "# Sort scenes to get most recent value first\n",
    "filter_scenes.sort_values('acquisitionDate', ascending=False).head(4)"
   ]
  },
  {
   "cell_type": "code",
   "execution_count": 36,
   "metadata": {
    "ExecuteTime": {
     "end_time": "2020-12-03T22:19:59.132680Z",
     "start_time": "2020-12-03T22:19:59.117058Z"
    }
   },
   "outputs": [
    {
     "name": "stdout",
     "output_type": "stream",
     "text": [
      "https://s3-us-west-2.amazonaws.com/landsat-pds/c1/L8/149/038/LC08_L1TP_149038_20201028_20201106_01_T1/index.html\n"
     ]
    }
   ],
   "source": [
    "# Get index position for most recent scene\n",
    "recent_idx = filter_scenes[filter_scenes.acquisitionDate == filter_scenes.acquisitionDate.max()].index\n",
    "\n",
    "# Extract url from df\n",
    "url = filter_scenes.loc[idx].download_url.tolist()\n",
    "\n",
    "# Remove index number\n",
    "download_url = url[0]\n",
    "\n",
    "# Print to check\n",
    "print(download_url)"
   ]
  },
  {
   "cell_type": "code",
   "execution_count": 37,
   "metadata": {
    "ExecuteTime": {
     "end_time": "2020-12-03T22:20:02.655491Z",
     "start_time": "2020-12-03T22:20:02.639826Z"
    }
   },
   "outputs": [],
   "source": [
    "# Create dir to hold rasters\n",
    "\"\"\"Will eventually be a db\"\"\"\n",
    "work_dir_path = os.path.join(str(Path.home()), \"Desktop\", \"forest_mon\", \"data\", \"L8\")"
   ]
  },
  {
   "cell_type": "code",
   "execution_count": 38,
   "metadata": {
    "ExecuteTime": {
     "end_time": "2020-12-03T22:20:15.064643Z",
     "start_time": "2020-12-03T22:20:14.410331Z"
    }
   },
   "outputs": [],
   "source": [
    "# Get response item\n",
    "response = rq.get(download_url)\n",
    "\n",
    "# Get html items\n",
    "page_html = BeautifulSoup(response.content, 'html.parser')"
   ]
  },
  {
   "cell_type": "code",
   "execution_count": 41,
   "metadata": {
    "ExecuteTime": {
     "end_time": "2020-12-03T22:21:48.531571Z",
     "start_time": "2020-12-03T22:21:26.991193Z"
    }
   },
   "outputs": [
    {
     "name": "stdout",
     "output_type": "stream",
     "text": [
      "Downloading LC08_L1TP_149038_20201028_20201106_01_T1_B2.TIF...\n",
      "...complete\n",
      "\n",
      "Downloading LC08_L1TP_149038_20201028_20201106_01_T1_B4.TIF...\n",
      "...complete\n",
      "\n",
      "Downloading LC08_L1TP_149038_20201028_20201106_01_T1_B5.TIF...\n",
      "...complete\n",
      "\n",
      "Downloading LC08_L1TP_149038_20201028_20201106_01_T1_BQA.TIF...\n",
      "...complete\n",
      "\n",
      "Downloading LC08_L1TP_149038_20201028_20201106_01_T1_B3.TIF...\n",
      "...complete\n",
      "\n"
     ]
    }
   ],
   "source": [
    "# Define bands to download - don't want all\n",
    "bands = [\"B2\", \"B3\", \"B4\", \"B5\", \"QA\"]\n",
    "\n",
    "# Loop thru li to get names\n",
    "for li in page_html.find_all('li'):\n",
    "    \n",
    "    # Get the <href> attribute from each <a>\n",
    "    f = li.find_next('a').get('href')\n",
    "    \n",
    "    # Get the band name: first part of filename\n",
    "    # Start by splitting filename at the dots\n",
    "    fname_list = f.split(\".\")\n",
    "    \n",
    "    # Get only some bands: filename ends in \"bands\" above\n",
    "    # and is not a .ovr file\n",
    "    if (fname_list[0].endswith(tuple(bands)) and not fname_list[-1] == \"ovr\"):\n",
    "        \n",
    "        # Create download url for this scene\n",
    "        scene_url = download_url.replace(\"index.html\", f)\n",
    "        \n",
    "        print(f\"Downloading {f}...\")\n",
    "        \n",
    "        # Get response item for this particular band in scene\n",
    "        band_response = rq.get(scene_url, stream=True)\n",
    "        \n",
    "        # Create unique image path\n",
    "        image_path = os.path.join(work_dir_path, f)\n",
    "        \n",
    "        # Save the image\n",
    "        with open(image_path, 'wb') as out_file:\n",
    "            shutil.copyfileobj(band_response.raw, out_file)\n",
    "        \n",
    "        # Delete the response... for... cleanliness?\n",
    "        del band_response\n",
    "        \n",
    "        print(\"...complete\\n\")"
   ]
  },
  {
   "cell_type": "code",
   "execution_count": null,
   "metadata": {},
   "outputs": [],
   "source": []
  }
 ],
 "metadata": {
  "kernelspec": {
   "display_name": "Python 3",
   "language": "python",
   "name": "python3"
  },
  "language_info": {
   "codemirror_mode": {
    "name": "ipython",
    "version": 3
   },
   "file_extension": ".py",
   "mimetype": "text/x-python",
   "name": "python",
   "nbconvert_exporter": "python",
   "pygments_lexer": "ipython3",
   "version": "3.7.9"
  },
  "varInspector": {
   "cols": {
    "lenName": 16,
    "lenType": 16,
    "lenVar": 40
   },
   "kernels_config": {
    "python": {
     "delete_cmd_postfix": "",
     "delete_cmd_prefix": "del ",
     "library": "var_list.py",
     "varRefreshCmd": "print(var_dic_list())"
    },
    "r": {
     "delete_cmd_postfix": ") ",
     "delete_cmd_prefix": "rm(",
     "library": "var_list.r",
     "varRefreshCmd": "cat(var_dic_list()) "
    }
   },
   "types_to_exclude": [
    "module",
    "function",
    "builtin_function_or_method",
    "instance",
    "_Feature"
   ],
   "window_display": false
  }
 },
 "nbformat": 4,
 "nbformat_minor": 4
}

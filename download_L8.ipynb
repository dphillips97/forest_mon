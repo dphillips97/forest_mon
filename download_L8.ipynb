{
 "cells": [
  {
   "cell_type": "code",
   "execution_count": 1,
   "metadata": {
    "ExecuteTime": {
     "end_time": "2020-12-04T19:44:43.485685Z",
     "start_time": "2020-12-04T19:44:36.313259Z"
    }
   },
   "outputs": [],
   "source": [
    "# General\n",
    "import os\n",
    "import shutil\n",
    "from pathlib import Path\n",
    "import pandas as pd\n",
    "\n",
    "# Web scraping\n",
    "import requests as rq\n",
    "from bs4 import BeautifulSoup"
   ]
  },
  {
   "cell_type": "code",
   "execution_count": 2,
   "metadata": {
    "ExecuteTime": {
     "end_time": "2020-12-04T19:44:43.507328Z",
     "start_time": "2020-12-04T19:44:43.485685Z"
    }
   },
   "outputs": [],
   "source": [
    "# Set max col width to see URLs\n",
    "pd.set_option('display.max_colwidth', None)"
   ]
  },
  {
   "cell_type": "code",
   "execution_count": 3,
   "metadata": {
    "ExecuteTime": {
     "end_time": "2020-12-04T19:45:07.304566Z",
     "start_time": "2020-12-04T19:44:43.507328Z"
    }
   },
   "outputs": [],
   "source": [
    "# Check available Landsat-8 scenes from Amazon S3\n",
    "s3_scenes = pd.read_csv('http://landsat-pds.s3.amazonaws.com/c1/L8/scene_list.gz', compression='gzip')"
   ]
  },
  {
   "cell_type": "code",
   "execution_count": 7,
   "metadata": {
    "ExecuteTime": {
     "end_time": "2020-12-04T20:02:29.008793Z",
     "start_time": "2020-12-04T20:02:26.930847Z"
    }
   },
   "outputs": [],
   "source": [
    "# Filter scenes to get only those we want\n",
    "filter_scenes = s3_scenes[(s3_scenes.path == 108) &\n",
    "                         (s3_scenes.row == 29) & \n",
    "                         (~s3_scenes.productId.str.contains(\"_T2\")) &\n",
    "                         (~s3_scenes.productId.str.contains(\"_RT\"))]"
   ]
  },
  {
   "cell_type": "code",
   "execution_count": 8,
   "metadata": {
    "ExecuteTime": {
     "end_time": "2020-12-04T20:02:30.510788Z",
     "start_time": "2020-12-04T20:02:30.479515Z"
    }
   },
   "outputs": [
    {
     "data": {
      "text/html": [
       "<div>\n",
       "<style scoped>\n",
       "    .dataframe tbody tr th:only-of-type {\n",
       "        vertical-align: middle;\n",
       "    }\n",
       "\n",
       "    .dataframe tbody tr th {\n",
       "        vertical-align: top;\n",
       "    }\n",
       "\n",
       "    .dataframe thead th {\n",
       "        text-align: right;\n",
       "    }\n",
       "</style>\n",
       "<table border=\"1\" class=\"dataframe\">\n",
       "  <thead>\n",
       "    <tr style=\"text-align: right;\">\n",
       "      <th></th>\n",
       "      <th>productId</th>\n",
       "      <th>entityId</th>\n",
       "      <th>acquisitionDate</th>\n",
       "      <th>cloudCover</th>\n",
       "      <th>processingLevel</th>\n",
       "      <th>path</th>\n",
       "      <th>row</th>\n",
       "      <th>min_lat</th>\n",
       "      <th>min_lon</th>\n",
       "      <th>max_lat</th>\n",
       "      <th>max_lon</th>\n",
       "      <th>download_url</th>\n",
       "    </tr>\n",
       "  </thead>\n",
       "  <tbody>\n",
       "    <tr>\n",
       "      <th>2143328</th>\n",
       "      <td>LC08_L1TP_108029_20201029_20201105_01_T1</td>\n",
       "      <td>LC81080292020303LGN00</td>\n",
       "      <td>2020-10-29 01:19:56.787745</td>\n",
       "      <td>72.67</td>\n",
       "      <td>L1TP</td>\n",
       "      <td>108</td>\n",
       "      <td>29</td>\n",
       "      <td>43.52281</td>\n",
       "      <td>139.84209</td>\n",
       "      <td>45.66428</td>\n",
       "      <td>142.77196</td>\n",
       "      <td>https://s3-us-west-2.amazonaws.com/landsat-pds/c1/L8/108/029/LC08_L1TP_108029_20201029_20201105_01_T1/index.html</td>\n",
       "    </tr>\n",
       "    <tr>\n",
       "      <th>2098069</th>\n",
       "      <td>LC08_L1TP_108029_20200911_20200918_01_T1</td>\n",
       "      <td>LC81080292020255LGN00</td>\n",
       "      <td>2020-09-11 01:19:50.525672</td>\n",
       "      <td>69.32</td>\n",
       "      <td>L1TP</td>\n",
       "      <td>108</td>\n",
       "      <td>29</td>\n",
       "      <td>43.52557</td>\n",
       "      <td>139.83824</td>\n",
       "      <td>45.66424</td>\n",
       "      <td>142.76833</td>\n",
       "      <td>https://s3-us-west-2.amazonaws.com/landsat-pds/c1/L8/108/029/LC08_L1TP_108029_20200911_20200918_01_T1/index.html</td>\n",
       "    </tr>\n",
       "    <tr>\n",
       "      <th>2054326</th>\n",
       "      <td>LC08_L1TP_108029_20200725_20200807_01_T1</td>\n",
       "      <td>LC81080292020207LGN01</td>\n",
       "      <td>2020-07-25 01:19:32.506670</td>\n",
       "      <td>27.89</td>\n",
       "      <td>L1TP</td>\n",
       "      <td>108</td>\n",
       "      <td>29</td>\n",
       "      <td>43.52270</td>\n",
       "      <td>139.84979</td>\n",
       "      <td>45.66436</td>\n",
       "      <td>142.77938</td>\n",
       "      <td>https://s3-us-west-2.amazonaws.com/landsat-pds/c1/L8/108/029/LC08_L1TP_108029_20200725_20200807_01_T1/index.html</td>\n",
       "    </tr>\n",
       "    <tr>\n",
       "      <th>2049779</th>\n",
       "      <td>LC08_L1TP_108029_20200709_20200721_01_T1</td>\n",
       "      <td>LC81080292020191LGN00</td>\n",
       "      <td>2020-07-09 01:19:27.365750</td>\n",
       "      <td>71.34</td>\n",
       "      <td>L1TP</td>\n",
       "      <td>108</td>\n",
       "      <td>29</td>\n",
       "      <td>43.52281</td>\n",
       "      <td>139.84209</td>\n",
       "      <td>45.66428</td>\n",
       "      <td>142.77196</td>\n",
       "      <td>https://s3-us-west-2.amazonaws.com/landsat-pds/c1/L8/108/029/LC08_L1TP_108029_20200709_20200721_01_T1/index.html</td>\n",
       "    </tr>\n",
       "  </tbody>\n",
       "</table>\n",
       "</div>"
      ],
      "text/plain": [
       "                                        productId               entityId  \\\n",
       "2143328  LC08_L1TP_108029_20201029_20201105_01_T1  LC81080292020303LGN00   \n",
       "2098069  LC08_L1TP_108029_20200911_20200918_01_T1  LC81080292020255LGN00   \n",
       "2054326  LC08_L1TP_108029_20200725_20200807_01_T1  LC81080292020207LGN01   \n",
       "2049779  LC08_L1TP_108029_20200709_20200721_01_T1  LC81080292020191LGN00   \n",
       "\n",
       "                    acquisitionDate  cloudCover processingLevel  path  row  \\\n",
       "2143328  2020-10-29 01:19:56.787745       72.67            L1TP   108   29   \n",
       "2098069  2020-09-11 01:19:50.525672       69.32            L1TP   108   29   \n",
       "2054326  2020-07-25 01:19:32.506670       27.89            L1TP   108   29   \n",
       "2049779  2020-07-09 01:19:27.365750       71.34            L1TP   108   29   \n",
       "\n",
       "          min_lat    min_lon   max_lat    max_lon  \\\n",
       "2143328  43.52281  139.84209  45.66428  142.77196   \n",
       "2098069  43.52557  139.83824  45.66424  142.76833   \n",
       "2054326  43.52270  139.84979  45.66436  142.77938   \n",
       "2049779  43.52281  139.84209  45.66428  142.77196   \n",
       "\n",
       "                                                                                                             download_url  \n",
       "2143328  https://s3-us-west-2.amazonaws.com/landsat-pds/c1/L8/108/029/LC08_L1TP_108029_20201029_20201105_01_T1/index.html  \n",
       "2098069  https://s3-us-west-2.amazonaws.com/landsat-pds/c1/L8/108/029/LC08_L1TP_108029_20200911_20200918_01_T1/index.html  \n",
       "2054326  https://s3-us-west-2.amazonaws.com/landsat-pds/c1/L8/108/029/LC08_L1TP_108029_20200725_20200807_01_T1/index.html  \n",
       "2049779  https://s3-us-west-2.amazonaws.com/landsat-pds/c1/L8/108/029/LC08_L1TP_108029_20200709_20200721_01_T1/index.html  "
      ]
     },
     "execution_count": 8,
     "metadata": {},
     "output_type": "execute_result"
    }
   ],
   "source": [
    "# Sort scenes to get most recent value first\n",
    "filter_scenes.sort_values('acquisitionDate', ascending=False).head(4)"
   ]
  },
  {
   "cell_type": "code",
   "execution_count": 10,
   "metadata": {
    "ExecuteTime": {
     "end_time": "2020-12-04T20:02:47.272218Z",
     "start_time": "2020-12-04T20:02:47.218958Z"
    }
   },
   "outputs": [
    {
     "name": "stdout",
     "output_type": "stream",
     "text": [
      "https://s3-us-west-2.amazonaws.com/landsat-pds/c1/L8/108/029/LC08_L1TP_108029_20201029_20201105_01_T1/index.html\n"
     ]
    }
   ],
   "source": [
    "# Get index position for most recent scene\n",
    "recent_idx = filter_scenes[filter_scenes.acquisitionDate == filter_scenes.acquisitionDate.max()].index\n",
    "\n",
    "# Extract url from df\n",
    "url = filter_scenes.loc[recent_idx].download_url.tolist()\n",
    "\n",
    "# Remove index number\n",
    "download_url = url[0]\n",
    "\n",
    "# Print to check\n",
    "print(download_url)"
   ]
  },
  {
   "cell_type": "code",
   "execution_count": 11,
   "metadata": {
    "ExecuteTime": {
     "end_time": "2020-12-04T20:02:50.937310Z",
     "start_time": "2020-12-04T20:02:50.921722Z"
    }
   },
   "outputs": [],
   "source": [
    "# Create dir to hold rasters\n",
    "\"\"\"Will eventually be a db\"\"\"\n",
    "work_dir_path = os.path.join(str(Path.home()), \"Desktop\", \"forest_mon\", \"data\", \"L8\")"
   ]
  },
  {
   "cell_type": "code",
   "execution_count": 12,
   "metadata": {
    "ExecuteTime": {
     "end_time": "2020-12-04T20:02:53.222342Z",
     "start_time": "2020-12-04T20:02:52.444153Z"
    }
   },
   "outputs": [],
   "source": [
    "# Get response item\n",
    "response = rq.get(download_url)\n",
    "\n",
    "# Get html items\n",
    "page_html = BeautifulSoup(response.content, 'html.parser')"
   ]
  },
  {
   "cell_type": "code",
   "execution_count": 13,
   "metadata": {
    "ExecuteTime": {
     "end_time": "2020-12-04T20:03:50.372537Z",
     "start_time": "2020-12-04T20:02:54.422805Z"
    }
   },
   "outputs": [
    {
     "name": "stdout",
     "output_type": "stream",
     "text": [
      "Downloading LC08_L1TP_108029_20201029_20201105_01_T1_B3.TIF...\n",
      "...complete\n",
      "\n",
      "Downloading LC08_L1TP_108029_20201029_20201105_01_T1_B5.TIF...\n",
      "...complete\n",
      "\n",
      "Downloading LC08_L1TP_108029_20201029_20201105_01_T1_B4.TIF...\n",
      "...complete\n",
      "\n",
      "Downloading LC08_L1TP_108029_20201029_20201105_01_T1_B2.TIF...\n",
      "...complete\n",
      "\n",
      "Downloading LC08_L1TP_108029_20201029_20201105_01_T1_BQA.TIF...\n",
      "...complete\n",
      "\n"
     ]
    }
   ],
   "source": [
    "# Define bands to download - don't want all\n",
    "bands = [\"B2\", \"B3\", \"B4\", \"B5\", \"QA\"]\n",
    "\n",
    "# Loop thru li to get names\n",
    "for li in page_html.find_all('li'):\n",
    "    \n",
    "    # Get the <href> attribute from each <a>\n",
    "    f = li.find_next('a').get('href')\n",
    "    \n",
    "    # Get the band name: first part of filename\n",
    "    # Start by splitting filename at the dots\n",
    "    fname_list = f.split(\".\")\n",
    "    \n",
    "    # Get only some bands: filename ends in \"bands\" above\n",
    "    # and is not a .ovr file\n",
    "    if (fname_list[0].endswith(tuple(bands)) and not fname_list[-1] == \"ovr\"):\n",
    "        \n",
    "        # Create download url for this scene\n",
    "        scene_url = download_url.replace(\"index.html\", f)\n",
    "        \n",
    "        print(f\"Downloading {f}...\")\n",
    "        \n",
    "        # Get response item for this particular band in scene\n",
    "        band_response = rq.get(scene_url, stream=True)\n",
    "        \n",
    "        # Create unique image path\n",
    "        image_path = os.path.join(work_dir_path, f)\n",
    "        \n",
    "        # Save the image\n",
    "        with open(image_path, 'wb') as out_file:\n",
    "            shutil.copyfileobj(band_response.raw, out_file)\n",
    "        \n",
    "        # Delete the response... for... cleanliness?\n",
    "        del band_response\n",
    "        \n",
    "        print(\"...complete\\n\")"
   ]
  },
  {
   "cell_type": "code",
   "execution_count": null,
   "metadata": {},
   "outputs": [],
   "source": []
  }
 ],
 "metadata": {
  "kernelspec": {
   "display_name": "Python 3",
   "language": "python",
   "name": "python3"
  },
  "language_info": {
   "codemirror_mode": {
    "name": "ipython",
    "version": 3
   },
   "file_extension": ".py",
   "mimetype": "text/x-python",
   "name": "python",
   "nbconvert_exporter": "python",
   "pygments_lexer": "ipython3",
   "version": "3.7.9"
  },
  "varInspector": {
   "cols": {
    "lenName": 16,
    "lenType": 16,
    "lenVar": 40
   },
   "kernels_config": {
    "python": {
     "delete_cmd_postfix": "",
     "delete_cmd_prefix": "del ",
     "library": "var_list.py",
     "varRefreshCmd": "print(var_dic_list())"
    },
    "r": {
     "delete_cmd_postfix": ") ",
     "delete_cmd_prefix": "rm(",
     "library": "var_list.r",
     "varRefreshCmd": "cat(var_dic_list()) "
    }
   },
   "types_to_exclude": [
    "module",
    "function",
    "builtin_function_or_method",
    "instance",
    "_Feature"
   ],
   "window_display": false
  }
 },
 "nbformat": 4,
 "nbformat_minor": 4
}

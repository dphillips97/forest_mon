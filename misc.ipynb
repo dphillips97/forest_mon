{
 "cells": [
  {
   "cell_type": "code",
   "execution_count": 1,
   "metadata": {
    "ExecuteTime": {
     "end_time": "2020-11-25T18:56:26.350532Z",
     "start_time": "2020-11-25T18:56:14.266577Z"
    }
   },
   "outputs": [],
   "source": [
    "import os\n",
    "import geopandas as gpd\n",
    "import fiona\n",
    "from pathlib import Path"
   ]
  },
  {
   "cell_type": "code",
   "execution_count": 2,
   "metadata": {
    "ExecuteTime": {
     "end_time": "2020-11-25T18:56:26.382451Z",
     "start_time": "2020-11-25T18:56:26.372497Z"
    }
   },
   "outputs": [],
   "source": [
    "# Enable KML drivers for fiona\n",
    "fiona.drvsupport.supported_drivers['kml'] = 'rw'\n",
    "fiona.drvsupport.supported_drivers['KML'] = 'rw'"
   ]
  },
  {
   "cell_type": "code",
   "execution_count": 3,
   "metadata": {
    "ExecuteTime": {
     "end_time": "2020-11-25T18:56:26.474204Z",
     "start_time": "2020-11-25T18:56:26.400404Z"
    }
   },
   "outputs": [],
   "source": [
    "# Set path to directory\n",
    "dir_path = os.path.join(str(Path.home()), 'Desktop', \"forest_mon\", \"data\")\n",
    "\n",
    "# Path to AoI\n",
    "aoi_path = os.path.join(dir_path, \"dream_gardens.kml\")"
   ]
  },
  {
   "cell_type": "code",
   "execution_count": 4,
   "metadata": {
    "ExecuteTime": {
     "end_time": "2020-11-25T18:56:27.329134Z",
     "start_time": "2020-11-25T18:56:26.492157Z"
    }
   },
   "outputs": [],
   "source": [
    "gardens = gpd.GeoDataFrame.from_file(aoi_path)"
   ]
  },
  {
   "cell_type": "code",
   "execution_count": 5,
   "metadata": {
    "ExecuteTime": {
     "end_time": "2020-11-25T18:56:27.529600Z",
     "start_time": "2020-11-25T18:56:27.456790Z"
    }
   },
   "outputs": [
    {
     "data": {
      "text/html": [
       "<div>\n",
       "<style scoped>\n",
       "    .dataframe tbody tr th:only-of-type {\n",
       "        vertical-align: middle;\n",
       "    }\n",
       "\n",
       "    .dataframe tbody tr th {\n",
       "        vertical-align: top;\n",
       "    }\n",
       "\n",
       "    .dataframe thead th {\n",
       "        text-align: right;\n",
       "    }\n",
       "</style>\n",
       "<table border=\"1\" class=\"dataframe\">\n",
       "  <thead>\n",
       "    <tr style=\"text-align: right;\">\n",
       "      <th></th>\n",
       "      <th>Name</th>\n",
       "      <th>Description</th>\n",
       "      <th>geometry</th>\n",
       "    </tr>\n",
       "  </thead>\n",
       "  <tbody>\n",
       "    <tr>\n",
       "      <th>0</th>\n",
       "      <td>Dream Gardens Lahore 1</td>\n",
       "      <td>Aforestt Project 2017 Izhar Monoo Group</td>\n",
       "      <td>POLYGON Z ((74.21327 31.39149 0.00000, 74.2132...</td>\n",
       "    </tr>\n",
       "  </tbody>\n",
       "</table>\n",
       "</div>"
      ],
      "text/plain": [
       "                     Name                              Description  \\\n",
       "0  Dream Gardens Lahore 1  Aforestt Project 2017 Izhar Monoo Group   \n",
       "\n",
       "                                            geometry  \n",
       "0  POLYGON Z ((74.21327 31.39149 0.00000, 74.2132...  "
      ]
     },
     "execution_count": 5,
     "metadata": {},
     "output_type": "execute_result"
    }
   ],
   "source": [
    "gardens"
   ]
  },
  {
   "cell_type": "code",
   "execution_count": 6,
   "metadata": {
    "ExecuteTime": {
     "end_time": "2020-11-25T18:57:02.847536Z",
     "start_time": "2020-11-25T18:57:02.153571Z"
    }
   },
   "outputs": [],
   "source": [
    "gardens.to_file(\"gardens.json\", driver=\"GeoJSON\")"
   ]
  },
  {
   "cell_type": "code",
   "execution_count": 6,
   "metadata": {
    "ExecuteTime": {
     "end_time": "2020-11-24T16:41:28.782555Z",
     "start_time": "2020-11-24T16:41:28.580171Z"
    }
   },
   "outputs": [],
   "source": [
    "gardens[\"wkt\"]= gardens.apply(lambda row:row['geometry'].wkt, axis=1)"
   ]
  },
  {
   "cell_type": "code",
   "execution_count": 7,
   "metadata": {
    "ExecuteTime": {
     "end_time": "2020-11-24T16:41:29.691189Z",
     "start_time": "2020-11-24T16:41:29.673940Z"
    }
   },
   "outputs": [
    {
     "data": {
      "text/html": [
       "<div>\n",
       "<style scoped>\n",
       "    .dataframe tbody tr th:only-of-type {\n",
       "        vertical-align: middle;\n",
       "    }\n",
       "\n",
       "    .dataframe tbody tr th {\n",
       "        vertical-align: top;\n",
       "    }\n",
       "\n",
       "    .dataframe thead th {\n",
       "        text-align: right;\n",
       "    }\n",
       "</style>\n",
       "<table border=\"1\" class=\"dataframe\">\n",
       "  <thead>\n",
       "    <tr style=\"text-align: right;\">\n",
       "      <th></th>\n",
       "      <th>Name</th>\n",
       "      <th>Description</th>\n",
       "      <th>geometry</th>\n",
       "      <th>wkt</th>\n",
       "    </tr>\n",
       "  </thead>\n",
       "  <tbody>\n",
       "    <tr>\n",
       "      <th>0</th>\n",
       "      <td>Dream Gardens Lahore 1</td>\n",
       "      <td>Aforestt Project 2017 Izhar Monoo Group</td>\n",
       "      <td>POLYGON Z ((74.21327 31.39149 0.00000, 74.2132...</td>\n",
       "      <td>POLYGON Z ((74.21327464036705 31.3914906751519...</td>\n",
       "    </tr>\n",
       "  </tbody>\n",
       "</table>\n",
       "</div>"
      ],
      "text/plain": [
       "                     Name                              Description  \\\n",
       "0  Dream Gardens Lahore 1  Aforestt Project 2017 Izhar Monoo Group   \n",
       "\n",
       "                                            geometry  \\\n",
       "0  POLYGON Z ((74.21327 31.39149 0.00000, 74.2132...   \n",
       "\n",
       "                                                 wkt  \n",
       "0  POLYGON Z ((74.21327464036705 31.3914906751519...  "
      ]
     },
     "execution_count": 7,
     "metadata": {},
     "output_type": "execute_result"
    }
   ],
   "source": [
    "gardens"
   ]
  },
  {
   "cell_type": "code",
   "execution_count": 8,
   "metadata": {
    "ExecuteTime": {
     "end_time": "2020-11-24T16:41:32.595567Z",
     "start_time": "2020-11-24T16:41:32.571663Z"
    }
   },
   "outputs": [
    {
     "data": {
      "text/plain": [
       "'POLYGON Z ((74.21327464036705 31.39149067515194 0, 74.21326117654706 31.39194430082808 0, 74.21320906881044 31.39192629546252 0, 74.21305144239024 31.39182239008467 0, 74.21283754343166 31.39170555326589 0, 74.21271544253328 31.39166457979208 0, 74.2127145690544 31.39149275013075 0, 74.21327464036705 31.39149067515194 0))'"
      ]
     },
     "execution_count": 8,
     "metadata": {},
     "output_type": "execute_result"
    }
   ],
   "source": [
    "gardens.iloc[0].wkt"
   ]
  },
  {
   "cell_type": "code",
   "execution_count": 9,
   "metadata": {
    "ExecuteTime": {
     "end_time": "2020-11-24T16:41:36.975792Z",
     "start_time": "2020-11-24T16:41:36.912534Z"
    }
   },
   "outputs": [
    {
     "data": {
      "text/plain": [
       "<Geographic 2D CRS: EPSG:4326>\n",
       "Name: WGS 84\n",
       "Axis Info [ellipsoidal]:\n",
       "- Lat[north]: Geodetic latitude (degree)\n",
       "- Lon[east]: Geodetic longitude (degree)\n",
       "Area of Use:\n",
       "- name: World\n",
       "- bounds: (-180.0, -90.0, 180.0, 90.0)\n",
       "Datum: World Geodetic System 1984\n",
       "- Ellipsoid: WGS 84\n",
       "- Prime Meridian: Greenwich"
      ]
     },
     "execution_count": 9,
     "metadata": {},
     "output_type": "execute_result"
    }
   ],
   "source": [
    "gardens.crs"
   ]
  },
  {
   "cell_type": "code",
   "execution_count": null,
   "metadata": {},
   "outputs": [],
   "source": []
  }
 ],
 "metadata": {
  "kernelspec": {
   "display_name": "Python 3",
   "language": "python",
   "name": "python3"
  },
  "language_info": {
   "codemirror_mode": {
    "name": "ipython",
    "version": 3
   },
   "file_extension": ".py",
   "mimetype": "text/x-python",
   "name": "python",
   "nbconvert_exporter": "python",
   "pygments_lexer": "ipython3",
   "version": "3.7.9"
  },
  "varInspector": {
   "cols": {
    "lenName": 16,
    "lenType": 16,
    "lenVar": 40
   },
   "kernels_config": {
    "python": {
     "delete_cmd_postfix": "",
     "delete_cmd_prefix": "del ",
     "library": "var_list.py",
     "varRefreshCmd": "print(var_dic_list())"
    },
    "r": {
     "delete_cmd_postfix": ") ",
     "delete_cmd_prefix": "rm(",
     "library": "var_list.r",
     "varRefreshCmd": "cat(var_dic_list()) "
    }
   },
   "types_to_exclude": [
    "module",
    "function",
    "builtin_function_or_method",
    "instance",
    "_Feature"
   ],
   "window_display": false
  }
 },
 "nbformat": 4,
 "nbformat_minor": 4
}

{
 "cells": [
  {
   "cell_type": "markdown",
   "metadata": {},
   "source": [
    "TODO\n",
    "- test aoi load on multipolygon feature?"
   ]
  },
  {
   "cell_type": "code",
   "execution_count": 1,
   "metadata": {
    "ExecuteTime": {
     "end_time": "2020-11-25T20:38:17.460915Z",
     "start_time": "2020-11-25T20:38:16.740765Z"
    }
   },
   "outputs": [],
   "source": [
    "import os\n",
    "from pathlib import Path\n",
    "\n",
    "import psycopg2\n",
    "import geopandas as gpd\n",
    "from shapely import wkt\n",
    "\n",
    "from secret_codes import *"
   ]
  },
  {
   "cell_type": "code",
   "execution_count": 2,
   "metadata": {
    "ExecuteTime": {
     "end_time": "2020-11-25T20:38:18.130911Z",
     "start_time": "2020-11-25T20:38:18.100020Z"
    }
   },
   "outputs": [
    {
     "data": {
      "text/plain": [
       "True"
      ]
     },
     "execution_count": 2,
     "metadata": {},
     "output_type": "execute_result"
    }
   ],
   "source": [
    "# Create work path to area of interest\n",
    "data_path = os.path.join(str(Path.home()), \"Desktop\", \"forest_mon\", \"data\")\n",
    "\n",
    "# Check to see if path exists\n",
    "os.path.exists(data_path)"
   ]
  },
  {
   "cell_type": "code",
   "execution_count": 3,
   "metadata": {
    "ExecuteTime": {
     "end_time": "2020-11-25T20:38:18.471406Z",
     "start_time": "2020-11-25T20:38:18.387812Z"
    }
   },
   "outputs": [],
   "source": [
    "# Load AoI \n",
    "aoi = gpd.read_file(os.path.join(data_path, \"gardens_edit.json\"))"
   ]
  },
  {
   "cell_type": "code",
   "execution_count": 7,
   "metadata": {
    "ExecuteTime": {
     "end_time": "2020-11-25T20:39:33.329841Z",
     "start_time": "2020-11-25T20:39:33.316876Z"
    }
   },
   "outputs": [],
   "source": [
    "# Check for multipolygon\n",
    "if aoi.shape[0] > 1:\n",
    "    print(\"Check for multipolygon\")\n",
    "elif aoi.shape[0] == 0:\n",
    "    print(\"Empty geometry\")"
   ]
  },
  {
   "cell_type": "code",
   "execution_count": 8,
   "metadata": {
    "ExecuteTime": {
     "end_time": "2020-11-25T20:39:37.802775Z",
     "start_time": "2020-11-25T20:39:37.796792Z"
    }
   },
   "outputs": [],
   "source": [
    "# Get AoI geometry as string\n",
    "aoi_geom_string = wkt.dumps(aoi.geometry[0])"
   ]
  },
  {
   "cell_type": "code",
   "execution_count": 9,
   "metadata": {
    "ExecuteTime": {
     "end_time": "2020-11-25T20:39:38.535725Z",
     "start_time": "2020-11-25T20:39:38.451013Z"
    }
   },
   "outputs": [],
   "source": [
    "# Create connection to test database\n",
    "conn = psycopg2.connect(user=\"postgres\",\n",
    "                        password=PG_PASS,\n",
    "                        host=\"localhost\",\n",
    "                        port=5432,\n",
    "                        database=\"forest_test\")\n",
    "\n",
    "# Create cursor\n",
    "cur = conn.cursor()"
   ]
  },
  {
   "cell_type": "code",
   "execution_count": 23,
   "metadata": {
    "ExecuteTime": {
     "end_time": "2020-11-25T20:48:52.314771Z",
     "start_time": "2020-11-25T20:48:52.306794Z"
    }
   },
   "outputs": [],
   "source": [
    "# User enters forest name\n",
    "insert_forest_name = 'test_forest'"
   ]
  },
  {
   "cell_type": "code",
   "execution_count": 12,
   "metadata": {
    "ExecuteTime": {
     "end_time": "2020-11-25T20:39:55.487028Z",
     "start_time": "2020-11-25T20:39:55.444897Z"
    }
   },
   "outputs": [],
   "source": [
    "### Test insert values\n",
    "insert_aoi_query = \"INSERT INTO %s (forest_name, is_active, date_planted) VALUES (%%s, %%s, %%s)\" % 'forest_info'\n",
    "\n",
    "cur.execute(insert_aoi_query, (insert_forest_name, 'TRUE', '2020-05-01'))\n",
    "\n",
    "conn.commit()"
   ]
  },
  {
   "cell_type": "code",
   "execution_count": 14,
   "metadata": {
    "ExecuteTime": {
     "end_time": "2020-11-25T20:40:30.434984Z",
     "start_time": "2020-11-25T20:40:30.404067Z"
    }
   },
   "outputs": [],
   "source": [
    "# Update with geom\n",
    "update_geom_query = \"\"\"UPDATE %s\n",
    "                    SET geom = st_geomfromtext(%%s, 4326)\n",
    "                    WHERE forest_name = %%s \"\"\" % 'forest_info'\n",
    "\n",
    "cur.execute(update_geom_query, (aoi_geom_string, insert_forest_name))\n",
    "\n",
    "conn.commit()"
   ]
  },
  {
   "cell_type": "code",
   "execution_count": null,
   "metadata": {
    "ExecuteTime": {
     "end_time": "2020-11-25T19:47:51.698131Z",
     "start_time": "2020-11-25T19:47:51.656177Z"
    }
   },
   "outputs": [],
   "source": [
    "#cur.execute(\"ROLLBACK;\")"
   ]
  },
  {
   "cell_type": "code",
   "execution_count": 32,
   "metadata": {
    "ExecuteTime": {
     "end_time": "2020-11-25T20:51:01.285775Z",
     "start_time": "2020-11-25T20:51:01.269818Z"
    }
   },
   "outputs": [
    {
     "name": "stdout",
     "output_type": "stream",
     "text": [
      "Forest id: 5\n",
      "Forest name: test_forest\n"
     ]
    }
   ],
   "source": [
    "\"\"\"'test_forest' string should be var\"\"\"\n",
    "\n",
    "select_forest_id = \"SELECT forest_id, forest_name FROM %s WHERE forest_name = 'test_forest'\" % 'forest_info'\n",
    "\n",
    "cur.execute(select_forest_id)\n",
    "\n",
    "results = cur.fetchall()\n",
    "\n",
    "for row in results:\n",
    "    insert_forest_id = row[0]\n",
    "    print(f\"Forest id: {insert_forest_id}\")\n",
    "    print(f\"Forest name: {row[1]}\")"
   ]
  },
  {
   "cell_type": "code",
   "execution_count": 33,
   "metadata": {
    "ExecuteTime": {
     "end_time": "2020-11-25T20:52:03.556189Z",
     "start_time": "2020-11-25T20:52:03.540201Z"
    }
   },
   "outputs": [],
   "source": [
    "# Insert data into locations table\n",
    "\n",
    "insert_loc_query = \"INSERT INTO %s (forest_id, loc_sys, loc_val) VALUES (%%s, %%s, %%s)\" % 'locations'\n",
    "\n",
    "cur.execute(insert_loc_query, (insert_forest_id, 'WRS', '149,38'))\n"
   ]
  },
  {
   "cell_type": "code",
   "execution_count": 34,
   "metadata": {
    "ExecuteTime": {
     "end_time": "2020-11-25T20:52:15.608968Z",
     "start_time": "2020-11-25T20:52:15.592019Z"
    }
   },
   "outputs": [],
   "source": [
    "conn.commit()"
   ]
  },
  {
   "cell_type": "code",
   "execution_count": 28,
   "metadata": {
    "ExecuteTime": {
     "end_time": "2020-11-25T20:50:27.600453Z",
     "start_time": "2020-11-25T20:50:27.588452Z"
    }
   },
   "outputs": [],
   "source": [
    "cur.execute(\"ROLLBACK;\")"
   ]
  }
 ],
 "metadata": {
  "kernelspec": {
   "display_name": "Python 3",
   "language": "python",
   "name": "python3"
  },
  "language_info": {
   "codemirror_mode": {
    "name": "ipython",
    "version": 3
   },
   "file_extension": ".py",
   "mimetype": "text/x-python",
   "name": "python",
   "nbconvert_exporter": "python",
   "pygments_lexer": "ipython3",
   "version": "3.7.9"
  },
  "varInspector": {
   "cols": {
    "lenName": 16,
    "lenType": 16,
    "lenVar": 40
   },
   "kernels_config": {
    "python": {
     "delete_cmd_postfix": "",
     "delete_cmd_prefix": "del ",
     "library": "var_list.py",
     "varRefreshCmd": "print(var_dic_list())"
    },
    "r": {
     "delete_cmd_postfix": ") ",
     "delete_cmd_prefix": "rm(",
     "library": "var_list.r",
     "varRefreshCmd": "cat(var_dic_list()) "
    }
   },
   "types_to_exclude": [
    "module",
    "function",
    "builtin_function_or_method",
    "instance",
    "_Feature"
   ],
   "window_display": false
  }
 },
 "nbformat": 4,
 "nbformat_minor": 4
}

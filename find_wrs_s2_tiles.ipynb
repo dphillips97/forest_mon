{
 "cells": [
  {
   "cell_type": "code",
   "execution_count": 1,
   "metadata": {},
   "outputs": [],
   "source": [
    "import os\n",
    "from pathlib import Path\n",
    "\n",
    "# Geospatial\n",
    "import geopandas as gpd\n",
    "import fiona\n",
    "from rtree.index import Index"
   ]
  },
  {
   "cell_type": "code",
   "execution_count": 2,
   "metadata": {},
   "outputs": [],
   "source": [
    "# Enable KML drivers for fiona\n",
    "fiona.drvsupport.supported_drivers['kml'] = 'rw'\n",
    "fiona.drvsupport.supported_drivers['KML'] = 'rw'"
   ]
  },
  {
   "cell_type": "code",
   "execution_count": 3,
   "metadata": {},
   "outputs": [],
   "source": [
    "# Set path to directory\n",
    "dir_path = os.path.join(str(Path.home()), 'Desktop', \"forest_mon\", \"data\")\n",
    "\n",
    "# Path to AoI\n",
    "aoi_path = os.path.join(dir_path, \"dream_gardens.kml\")\n",
    "\n",
    "# Path to WRS shapefile\n",
    "wrs_path = os.path.join(dir_path, \"WRS2_descending.shp\")\n",
    "\n",
    "# Path to Sentinel-2 tiles\n",
    "s2_path = os.path.join(dir_path, \"S2_tiles.kml\")"
   ]
  },
  {
   "cell_type": "code",
   "execution_count": 4,
   "metadata": {},
   "outputs": [],
   "source": [
    "# Create WRS gdf\n",
    "wrs = gpd.GeoDataFrame.from_file(wrs_path)\n",
    "\n",
    "# Create Sentinel-2 gdf\n",
    "s2 = gpd.GeoDataFrame.from_file(s2_path)\n",
    "\n",
    "# Create AoI gdf\n",
    "aoi = gpd.GeoDataFrame.from_file(aoi_path)"
   ]
  },
  {
   "cell_type": "code",
   "execution_count": 5,
   "metadata": {},
   "outputs": [],
   "source": [
    "def fast_intersect(aoi, grid):\n",
    "    \"\"\"\n",
    "    Uses spatial indexing to find tiles that intersect \n",
    "    the area of interest\n",
    "    \n",
    "    Params\n",
    "    ------\n",
    "    \n",
    "    aoi: Geopandas GeoDataFrame\n",
    "        GeoDataFrame containing area of interest for\n",
    "        which you want to find an intersection\n",
    "        \n",
    "    grid: Geopandas GeoDataFrame\n",
    "        This will intersect the AOI\n",
    "        \n",
    "    Returns\n",
    "    -------\n",
    "    precise_matches: Geopandas GeoDataFrame\n",
    "        This is the resulting gdf that contains grid features\n",
    "        that intersect area of interest\n",
    "    \"\"\"\n",
    "    \n",
    "    # Create spatial index for gdf\n",
    "    grid_spatial_idx = grid.sindex\n",
    "    \n",
    "    # Convert AoI coords into something gpd can understand\n",
    "    aoi_boundaries = (aoi.bounds.minx[0],\n",
    "                      aoi.bounds.miny[0],\n",
    "                      aoi.bounds.maxx[0],\n",
    "                      aoi.bounds.maxy[0])\n",
    "    \n",
    "    # Get possible matches using rtree, return as list\n",
    "    poss_matches_idx = list(grid_spatial_idx.intersection(aoi_boundaries))\n",
    "    \n",
    "    # Get possible matches rows from gdb\n",
    "    poss_matches = grid.iloc[poss_matches_idx]\n",
    "    \n",
    "    # Get precise matches by selecting from possible matches\n",
    "    # where they intersect AoI\n",
    "    precise_matches = poss_matches[poss_matches.intersects(aoi.geometry[0])]\n",
    "\n",
    "    return precise_matches"
   ]
  },
  {
   "cell_type": "code",
   "execution_count": 8,
   "metadata": {},
   "outputs": [
    {
     "data": {
      "text/html": [
       "<div>\n",
       "<style scoped>\n",
       "    .dataframe tbody tr th:only-of-type {\n",
       "        vertical-align: middle;\n",
       "    }\n",
       "\n",
       "    .dataframe tbody tr th {\n",
       "        vertical-align: top;\n",
       "    }\n",
       "\n",
       "    .dataframe thead th {\n",
       "        text-align: right;\n",
       "    }\n",
       "</style>\n",
       "<table border=\"1\" class=\"dataframe\">\n",
       "  <thead>\n",
       "    <tr style=\"text-align: right;\">\n",
       "      <th></th>\n",
       "      <th>AREA</th>\n",
       "      <th>PERIMETER</th>\n",
       "      <th>PR_</th>\n",
       "      <th>PR_ID</th>\n",
       "      <th>RINGS_OK</th>\n",
       "      <th>RINGS_NOK</th>\n",
       "      <th>PATH</th>\n",
       "      <th>ROW</th>\n",
       "      <th>MODE</th>\n",
       "      <th>SEQUENCE</th>\n",
       "      <th>WRSPR</th>\n",
       "      <th>PR</th>\n",
       "      <th>ACQDayL7</th>\n",
       "      <th>ACQDayL8</th>\n",
       "      <th>geometry</th>\n",
       "    </tr>\n",
       "  </thead>\n",
       "  <tbody>\n",
       "    <tr>\n",
       "      <th>17273</th>\n",
       "      <td>3.0175</td>\n",
       "      <td>7.01407</td>\n",
       "      <td>2022.0</td>\n",
       "      <td>2022.0</td>\n",
       "      <td>1</td>\n",
       "      <td>0</td>\n",
       "      <td>149</td>\n",
       "      <td>38</td>\n",
       "      <td>D</td>\n",
       "      <td>33270</td>\n",
       "      <td>149038</td>\n",
       "      <td>149038</td>\n",
       "      <td>10</td>\n",
       "      <td>2</td>\n",
       "      <td>POLYGON ((72.85290 31.12687, 72.85270 31.12690...</td>\n",
       "    </tr>\n",
       "  </tbody>\n",
       "</table>\n",
       "</div>"
      ],
      "text/plain": [
       "         AREA  PERIMETER     PR_   PR_ID  RINGS_OK  RINGS_NOK  PATH  ROW MODE  \\\n",
       "17273  3.0175    7.01407  2022.0  2022.0         1          0   149   38    D   \n",
       "\n",
       "       SEQUENCE   WRSPR      PR ACQDayL7 ACQDayL8  \\\n",
       "17273     33270  149038  149038       10        2   \n",
       "\n",
       "                                                geometry  \n",
       "17273  POLYGON ((72.85290 31.12687, 72.85270 31.12690...  "
      ]
     },
     "execution_count": 8,
     "metadata": {},
     "output_type": "execute_result"
    }
   ],
   "source": [
    "fast_intersect(aoi=aoi, grid=wrs)"
   ]
  },
  {
   "cell_type": "code",
   "execution_count": 9,
   "metadata": {},
   "outputs": [
    {
     "data": {
      "text/html": [
       "<div>\n",
       "<style scoped>\n",
       "    .dataframe tbody tr th:only-of-type {\n",
       "        vertical-align: middle;\n",
       "    }\n",
       "\n",
       "    .dataframe tbody tr th {\n",
       "        vertical-align: top;\n",
       "    }\n",
       "\n",
       "    .dataframe thead th {\n",
       "        text-align: right;\n",
       "    }\n",
       "</style>\n",
       "<table border=\"1\" class=\"dataframe\">\n",
       "  <thead>\n",
       "    <tr style=\"text-align: right;\">\n",
       "      <th></th>\n",
       "      <th>Name</th>\n",
       "      <th>Description</th>\n",
       "      <th>geometry</th>\n",
       "    </tr>\n",
       "  </thead>\n",
       "  <tbody>\n",
       "    <tr>\n",
       "      <th>40469</th>\n",
       "      <td>43RDQ</td>\n",
       "      <td>TILE PROPERTIES&lt;br&gt;&lt;table border=0 cellpadding...</td>\n",
       "      <td>GEOMETRYCOLLECTION Z (POLYGON Z ((73.94510 31....</td>\n",
       "    </tr>\n",
       "  </tbody>\n",
       "</table>\n",
       "</div>"
      ],
      "text/plain": [
       "        Name                                        Description  \\\n",
       "40469  43RDQ  TILE PROPERTIES<br><table border=0 cellpadding...   \n",
       "\n",
       "                                                geometry  \n",
       "40469  GEOMETRYCOLLECTION Z (POLYGON Z ((73.94510 31....  "
      ]
     },
     "execution_count": 9,
     "metadata": {},
     "output_type": "execute_result"
    }
   ],
   "source": [
    "fast_intersect(aoi=aoi, grid=s2)"
   ]
  },
  {
   "cell_type": "code",
   "execution_count": null,
   "metadata": {},
   "outputs": [],
   "source": []
  }
 ],
 "metadata": {
  "kernelspec": {
   "display_name": "Python 3",
   "language": "python",
   "name": "python3"
  },
  "language_info": {
   "codemirror_mode": {
    "name": "ipython",
    "version": 3
   },
   "file_extension": ".py",
   "mimetype": "text/x-python",
   "name": "python",
   "nbconvert_exporter": "python",
   "pygments_lexer": "ipython3",
   "version": "3.7.9"
  }
 },
 "nbformat": 4,
 "nbformat_minor": 4
}

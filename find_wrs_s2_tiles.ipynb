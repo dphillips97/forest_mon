{
 "cells": [
  {
   "cell_type": "code",
   "execution_count": 32,
   "metadata": {
    "ExecuteTime": {
     "end_time": "2020-12-04T19:54:27.785162Z",
     "start_time": "2020-12-04T19:54:27.769540Z"
    }
   },
   "outputs": [],
   "source": [
    "import os\n",
    "from pathlib import Path\n",
    "\n",
    "# Geospatial\n",
    "import geopandas as gpd\n",
    "import fiona\n",
    "from rtree.index import Index\n",
    "\n",
    "import matplotlib.pyplot as plt"
   ]
  },
  {
   "cell_type": "code",
   "execution_count": 2,
   "metadata": {
    "ExecuteTime": {
     "end_time": "2020-12-04T19:44:53.669172Z",
     "start_time": "2020-12-04T19:44:53.653541Z"
    }
   },
   "outputs": [],
   "source": [
    "# Enable KML drivers for fiona\n",
    "fiona.drvsupport.supported_drivers['kml'] = 'rw'\n",
    "fiona.drvsupport.supported_drivers['KML'] = 'rw'"
   ]
  },
  {
   "cell_type": "code",
   "execution_count": 24,
   "metadata": {
    "ExecuteTime": {
     "end_time": "2020-12-04T19:53:18.019043Z",
     "start_time": "2020-12-04T19:53:17.987793Z"
    }
   },
   "outputs": [],
   "source": [
    "# Set path to directory\n",
    "dir_path = os.path.join(str(Path.home()), 'Desktop', \"forest_mon\", \"data\")\n",
    "\n",
    "# Path to AoI\n",
    "aoi_path = os.path.join(dir_path, \"rishiri.json\")\n",
    "\n",
    "# Path to WRS shapefile\n",
    "wrs_path = os.path.join(dir_path, \"WRS2_descending.shp\")\n",
    "\n",
    "# Path to Sentinel-2 tiles\n",
    "#s2_path = os.path.join(dir_path, \"S2_tiles.kml\")"
   ]
  },
  {
   "cell_type": "code",
   "execution_count": 25,
   "metadata": {
    "ExecuteTime": {
     "end_time": "2020-12-04T19:53:31.760037Z",
     "start_time": "2020-12-04T19:53:18.688248Z"
    }
   },
   "outputs": [],
   "source": [
    "# Create WRS gdf\n",
    "wrs = gpd.GeoDataFrame.from_file(wrs_path)\n",
    "\n",
    "# Create Sentinel-2 gdf\n",
    "#s2 = gpd.GeoDataFrame.from_file(s2_path)\n",
    "\n",
    "# Create AoI gdf\n",
    "aoi = gpd.GeoDataFrame.from_file(aoi_path)"
   ]
  },
  {
   "cell_type": "code",
   "execution_count": 26,
   "metadata": {
    "ExecuteTime": {
     "end_time": "2020-12-04T19:53:31.860312Z",
     "start_time": "2020-12-04T19:53:31.844662Z"
    }
   },
   "outputs": [],
   "source": [
    "def fast_intersect(aoi, grid):\n",
    "    \"\"\"\n",
    "    Uses spatial indexing to find tiles that intersect \n",
    "    the area of interest\n",
    "    \n",
    "    Params\n",
    "    ------\n",
    "    \n",
    "    aoi: Geopandas GeoDataFrame\n",
    "        GeoDataFrame containing area of interest for\n",
    "        which you want to find an intersection\n",
    "        \n",
    "    grid: Geopandas GeoDataFrame\n",
    "        This will intersect the AOI\n",
    "        \n",
    "    Returns\n",
    "    -------\n",
    "    precise_matches: Geopandas GeoDataFrame\n",
    "        This is the resulting gdf that contains grid features\n",
    "        that intersect area of interest\n",
    "    \"\"\"\n",
    "    \n",
    "    # Create spatial index for gdf\n",
    "    grid_spatial_idx = grid.sindex\n",
    "    \n",
    "    # Convert AoI coords into something gpd can understand\n",
    "    aoi_boundaries = (aoi.bounds.minx[0],\n",
    "                      aoi.bounds.miny[0],\n",
    "                      aoi.bounds.maxx[0],\n",
    "                      aoi.bounds.maxy[0])\n",
    "    \n",
    "    # Get possible matches using rtree, return as list\n",
    "    poss_matches_idx = list(grid_spatial_idx.intersection(aoi_boundaries))\n",
    "    \n",
    "    # Get possible matches rows from gdb\n",
    "    poss_matches = grid.iloc[poss_matches_idx]\n",
    "    \n",
    "    # Get precise matches by selecting from possible matches\n",
    "    # where they intersect AoI\n",
    "    precise_matches = poss_matches[poss_matches.intersects(aoi.geometry[0])]\n",
    "\n",
    "    return precise_matches"
   ]
  },
  {
   "cell_type": "code",
   "execution_count": 36,
   "metadata": {
    "ExecuteTime": {
     "end_time": "2020-12-04T21:19:18.363694Z",
     "start_time": "2020-12-04T21:19:18.301173Z"
    },
    "scrolled": true
   },
   "outputs": [
    {
     "data": {
      "text/html": [
       "<div>\n",
       "<style scoped>\n",
       "    .dataframe tbody tr th:only-of-type {\n",
       "        vertical-align: middle;\n",
       "    }\n",
       "\n",
       "    .dataframe tbody tr th {\n",
       "        vertical-align: top;\n",
       "    }\n",
       "\n",
       "    .dataframe thead th {\n",
       "        text-align: right;\n",
       "    }\n",
       "</style>\n",
       "<table border=\"1\" class=\"dataframe\">\n",
       "  <thead>\n",
       "    <tr style=\"text-align: right;\">\n",
       "      <th></th>\n",
       "      <th>AREA</th>\n",
       "      <th>PERIMETER</th>\n",
       "      <th>PR_</th>\n",
       "      <th>PR_ID</th>\n",
       "      <th>RINGS_OK</th>\n",
       "      <th>RINGS_NOK</th>\n",
       "      <th>PATH</th>\n",
       "      <th>ROW</th>\n",
       "      <th>MODE</th>\n",
       "      <th>SEQUENCE</th>\n",
       "      <th>WRSPR</th>\n",
       "      <th>PR</th>\n",
       "      <th>ACQDayL7</th>\n",
       "      <th>ACQDayL8</th>\n",
       "      <th>geometry</th>\n",
       "    </tr>\n",
       "  </thead>\n",
       "  <tbody>\n",
       "    <tr>\n",
       "      <th>18876</th>\n",
       "      <td>3.58803</td>\n",
       "      <td>7.78452</td>\n",
       "      <td>1765.0</td>\n",
       "      <td>1765.0</td>\n",
       "      <td>1</td>\n",
       "      <td>0</td>\n",
       "      <td>108</td>\n",
       "      <td>29</td>\n",
       "      <td>D</td>\n",
       "      <td>36237</td>\n",
       "      <td>108029</td>\n",
       "      <td>108029</td>\n",
       "      <td>11</td>\n",
       "      <td>3</td>\n",
       "      <td>POLYGON ((139.90290 44.02357, 139.90200 44.023...</td>\n",
       "    </tr>\n",
       "    <tr>\n",
       "      <th>2632</th>\n",
       "      <td>3.58803</td>\n",
       "      <td>7.78452</td>\n",
       "      <td>1765.0</td>\n",
       "      <td>1765.0</td>\n",
       "      <td>1</td>\n",
       "      <td>0</td>\n",
       "      <td>109</td>\n",
       "      <td>29</td>\n",
       "      <td>D</td>\n",
       "      <td>3749</td>\n",
       "      <td>109029</td>\n",
       "      <td>109029</td>\n",
       "      <td>2</td>\n",
       "      <td>10</td>\n",
       "      <td>POLYGON ((138.35790 44.02357, 138.35700 44.023...</td>\n",
       "    </tr>\n",
       "    <tr>\n",
       "      <th>2631</th>\n",
       "      <td>3.67742</td>\n",
       "      <td>7.90698</td>\n",
       "      <td>1764.0</td>\n",
       "      <td>1764.0</td>\n",
       "      <td>1</td>\n",
       "      <td>0</td>\n",
       "      <td>109</td>\n",
       "      <td>28</td>\n",
       "      <td>D</td>\n",
       "      <td>3748</td>\n",
       "      <td>109028</td>\n",
       "      <td>109028</td>\n",
       "      <td>2</td>\n",
       "      <td>10</td>\n",
       "      <td>POLYGON ((138.83610 45.44989, 138.83600 45.449...</td>\n",
       "    </tr>\n",
       "  </tbody>\n",
       "</table>\n",
       "</div>"
      ],
      "text/plain": [
       "          AREA  PERIMETER     PR_   PR_ID  RINGS_OK  RINGS_NOK  PATH  ROW  \\\n",
       "18876  3.58803    7.78452  1765.0  1765.0         1          0   108   29   \n",
       "2632   3.58803    7.78452  1765.0  1765.0         1          0   109   29   \n",
       "2631   3.67742    7.90698  1764.0  1764.0         1          0   109   28   \n",
       "\n",
       "      MODE  SEQUENCE   WRSPR      PR ACQDayL7 ACQDayL8  \\\n",
       "18876    D     36237  108029  108029       11        3   \n",
       "2632     D      3749  109029  109029        2       10   \n",
       "2631     D      3748  109028  109028        2       10   \n",
       "\n",
       "                                                geometry  \n",
       "18876  POLYGON ((139.90290 44.02357, 139.90200 44.023...  \n",
       "2632   POLYGON ((138.35790 44.02357, 138.35700 44.023...  \n",
       "2631   POLYGON ((138.83610 45.44989, 138.83600 45.449...  "
      ]
     },
     "execution_count": 36,
     "metadata": {},
     "output_type": "execute_result"
    }
   ],
   "source": [
    "matches = fast_intersect(aoi=aoi, grid=wrs)\n",
    "matches"
   ]
  },
  {
   "cell_type": "code",
   "execution_count": 35,
   "metadata": {
    "ExecuteTime": {
     "end_time": "2020-12-04T19:55:10.119015Z",
     "start_time": "2020-12-04T19:55:09.903875Z"
    }
   },
   "outputs": [
    {
     "data": {
      "text/plain": [
       "<AxesSubplot:>"
      ]
     },
     "execution_count": 35,
     "metadata": {},
     "output_type": "execute_result"
    },
    {
     "data": {
      "image/png": "[encoded data removed]",
      "text/plain": [
       "<Figure size 432x288 with 1 Axes>"
      ]
     },
     "metadata": {
      "needs_background": "light"
     },
     "output_type": "display_data"
    }
   ],
   "source": [
    "fig, ax = plt.subplots()\n",
    "matches.plot(ax=ax, edgecolor='red')\n",
    "aoi.plot(ax=ax, color='linen')"
   ]
  },
  {
   "cell_type": "code",
   "execution_count": null,
   "metadata": {},
   "outputs": [],
   "source": []
  }
 ],
 "metadata": {
  "kernelspec": {
   "display_name": "Python 3",
   "language": "python",
   "name": "python3"
  },
  "language_info": {
   "codemirror_mode": {
    "name": "ipython",
    "version": 3
   },
   "file_extension": ".py",
   "mimetype": "text/x-python",
   "name": "python",
   "nbconvert_exporter": "python",
   "pygments_lexer": "ipython3",
   "version": "3.7.9"
  },
  "varInspector": {
   "cols": {
    "lenName": 16,
    "lenType": 16,
    "lenVar": 40
   },
   "kernels_config": {
    "python": {
     "delete_cmd_postfix": "",
     "delete_cmd_prefix": "del ",
     "library": "var_list.py",
     "varRefreshCmd": "print(var_dic_list())"
    },
    "r": {
     "delete_cmd_postfix": ") ",
     "delete_cmd_prefix": "rm(",
     "library": "var_list.r",
     "varRefreshCmd": "cat(var_dic_list()) "
    }
   },
   "types_to_exclude": [
    "module",
    "function",
    "builtin_function_or_method",
    "instance",
    "_Feature"
   ],
   "window_display": false
  }
 },
 "nbformat": 4,
 "nbformat_minor": 4
}

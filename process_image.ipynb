{
 "cells": [
  {
   "cell_type": "code",
   "execution_count": 1,
   "metadata": {
    "ExecuteTime": {
     "end_time": "2020-12-04T21:38:34.618474Z",
     "start_time": "2020-12-04T21:38:33.368555Z"
    }
   },
   "outputs": [],
   "source": [
    "import os \n",
    "from pathlib import Path\n",
    "import json\n",
    "from glob import glob\n",
    "\n",
    "import geopandas as gpd\n",
    "\n",
    "import matplotlib.pyplot as plt\n",
    "\n",
    "import rasterio as rio\n",
    "from rasterio.plot import show\n",
    "from rasterio.mask import mask"
   ]
  },
  {
   "cell_type": "code",
   "execution_count": 2,
   "metadata": {
    "ExecuteTime": {
     "end_time": "2020-12-04T21:38:35.487604Z",
     "start_time": "2020-12-04T21:38:35.465469Z"
    }
   },
   "outputs": [],
   "source": [
    "# Create paths\n",
    "data_dir_path = os.path.join(str(Path.home()), \"Desktop\", \"forest_mon\", \"data\")\n",
    "\n",
    "aoi_path = os.path.join(data_dir_path, \"rishiri.json\" )"
   ]
  },
  {
   "cell_type": "code",
   "execution_count": 3,
   "metadata": {
    "ExecuteTime": {
     "end_time": "2020-12-04T21:38:37.151473Z",
     "start_time": "2020-12-04T21:38:37.073275Z"
    }
   },
   "outputs": [],
   "source": [
    "# Load area of interest for clipping\n",
    "aoi = gpd.read_file(aoi_path)"
   ]
  },
  {
   "cell_type": "code",
   "execution_count": 4,
   "metadata": {
    "ExecuteTime": {
     "end_time": "2020-12-04T21:38:38.021396Z",
     "start_time": "2020-12-04T21:38:38.005742Z"
    }
   },
   "outputs": [],
   "source": [
    "# Get paths of images to stack\n",
    "image_paths = sorted(glob(os.path.join(data_dir_path, \"L8\", \"*B?.TIF\")))"
   ]
  },
  {
   "cell_type": "code",
   "execution_count": 5,
   "metadata": {
    "ExecuteTime": {
     "end_time": "2020-12-04T21:38:39.928627Z",
     "start_time": "2020-12-04T21:38:39.822623Z"
    }
   },
   "outputs": [],
   "source": [
    "# Open image and get CRS to convert gdf\n",
    "with rio.open(image_paths[0]) as sample_image:\n",
    "    \n",
    "    # Get EPSG number from string\n",
    "    image_crs_string = sample_image.crs.data['init'].split(\":\")[1]\n",
    "\n",
    "# Re-project gdf into same CRS as data\n",
    "aoi_reproj = aoi.to_crs(crs=f\"epsg:{image_crs_string}\")\n",
    "\n",
    "# Convert coordinates into form that rasterio likes\n",
    "aoi_reproj_json = [json.loads(aoi_reproj.to_json())['features'][0]['geometry']]"
   ]
  },
  {
   "cell_type": "code",
   "execution_count": 17,
   "metadata": {
    "ExecuteTime": {
     "end_time": "2020-12-04T21:48:34.614526Z",
     "start_time": "2020-12-04T21:48:34.043910Z"
    }
   },
   "outputs": [],
   "source": [
    "# Clip image and export\n",
    "\n",
    "for band_path in image_paths:\n",
    "\n",
    "    # Load image\n",
    "    with rio.open(band_path) as band:\n",
    "\n",
    "        # Clip the image\n",
    "        # out_array is array where pixels outside shapes are masked\n",
    "        out_array, out_transform = mask(\n",
    "            dataset=band, shapes=aoi_reproj_json, crop=True)\n",
    "\n",
    "        # Copy metadata from original file\n",
    "        out_meta = band.meta.copy()\n",
    "\n",
    "        # Update metadata with new stuff\n",
    "        out_meta.update({\"driver\": \"GTiff\",\n",
    "                         \"height\": out_array.shape[1],\n",
    "                         \"width\": out_array.shape[2],\n",
    "                         \"transform\": out_transform,\n",
    "                         \"crs\": rio.crs.CRS.from_epsg(image_crs_string)})\n",
    "\n",
    "        # Append \"_clipped\" to clipped images as output name\n",
    "        basename_list = os.path.basename(band_path).split(\".\")\n",
    "        basename_list[0] = basename_list[0] + \"_clipped\"\n",
    "        out_name = '.'.join(basename_list)\n",
    "\n",
    "        # Export\n",
    "        with rio.open(os.path.join(data_dir_path, \"L8\", \"clipped\", out_name), \"w\", **out_meta) as dest:\n",
    "            dest.write(out_array)"
   ]
  },
  {
   "cell_type": "code",
   "execution_count": null,
   "metadata": {},
   "outputs": [],
   "source": []
  },
  {
   "cell_type": "code",
   "execution_count": null,
   "metadata": {
    "ExecuteTime": {
     "end_time": "2020-12-04T21:16:49.625182Z",
     "start_time": "2020-12-04T21:16:49.408854Z"
    }
   },
   "outputs": [],
   "source": [
    "fig, ax = plt.subplots()\n",
    "\n",
    "show(clipped, ax=ax, cmap='terrain')"
   ]
  },
  {
   "cell_type": "code",
   "execution_count": null,
   "metadata": {
    "ExecuteTime": {
     "end_time": "2020-12-04T21:37:53.395010Z",
     "start_time": "2020-12-04T21:37:53.357385Z"
    }
   },
   "outputs": [],
   "source": [
    "raise ValueError(\"STOP\")"
   ]
  },
  {
   "cell_type": "code",
   "execution_count": null,
   "metadata": {},
   "outputs": [],
   "source": []
  },
  {
   "cell_type": "code",
   "execution_count": null,
   "metadata": {
    "ExecuteTime": {
     "end_time": "2020-12-04T21:14:27.536540Z",
     "start_time": "2020-12-04T21:14:27.505666Z"
    }
   },
   "outputs": [],
   "source": [
    "# Load image\n",
    "band = rio.open(image_path)"
   ]
  },
  {
   "cell_type": "code",
   "execution_count": null,
   "metadata": {
    "ExecuteTime": {
     "end_time": "2020-12-04T21:14:27.705742Z",
     "start_time": "2020-12-04T21:14:27.611339Z"
    }
   },
   "outputs": [],
   "source": [
    "# Get EPSG number from string\n",
    "image_crs_string = band.crs.data['init'].split(\":\")[1]\n",
    "\n",
    "# Re-project gdf into same CRS as data\n",
    "aoi_reproj = aoi.to_crs(crs=f\"epsg:{image_crs_string}\")"
   ]
  },
  {
   "cell_type": "code",
   "execution_count": null,
   "metadata": {
    "ExecuteTime": {
     "end_time": "2020-12-04T21:15:53.295054Z",
     "start_time": "2020-12-04T21:15:53.248190Z"
    }
   },
   "outputs": [],
   "source": [
    "# Clip the image\n",
    "# out_array is array where pixels outside shapes are masked\n",
    "out_array, out_transform = mask(dataset=band, shapes=aoi_reproj_json, crop=True)"
   ]
  },
  {
   "cell_type": "code",
   "execution_count": null,
   "metadata": {
    "ExecuteTime": {
     "end_time": "2020-12-04T21:15:53.695805Z",
     "start_time": "2020-12-04T21:15:53.680182Z"
    }
   },
   "outputs": [],
   "source": [
    "# Modify metadata: copy from original file\n",
    "out_meta = band.meta.copy()"
   ]
  },
  {
   "cell_type": "code",
   "execution_count": null,
   "metadata": {
    "ExecuteTime": {
     "end_time": "2020-12-04T21:16:05.784390Z",
     "start_time": "2020-12-04T21:16:05.768767Z"
    }
   },
   "outputs": [],
   "source": [
    "# Update metadata with new stuff\n",
    "out_meta.update({\"driver\": \"GTiff\",\n",
    "                 \"height\": out_array.shape[1],\n",
    "                 \"width\": out_array.shape[2],\n",
    "                 \"transform\": out_transform,\n",
    "                 \"crs\": rio.crs.CRS.from_epsg(image_crs_string)})"
   ]
  },
  {
   "cell_type": "code",
   "execution_count": null,
   "metadata": {
    "ExecuteTime": {
     "end_time": "2020-12-04T21:16:07.785977Z",
     "start_time": "2020-12-04T21:16:07.716873Z"
    }
   },
   "outputs": [],
   "source": [
    "out_tif = \"test_clip.tif\"\n",
    "\n",
    "with rio.open(out_tif, \"w\", **out_meta) as dest:\n",
    "    dest.write(out_array)"
   ]
  },
  {
   "cell_type": "code",
   "execution_count": null,
   "metadata": {
    "ExecuteTime": {
     "end_time": "2020-12-04T21:16:13.459023Z",
     "start_time": "2020-12-04T21:16:13.421400Z"
    }
   },
   "outputs": [],
   "source": [
    "clipped = rio.open(out_tif)"
   ]
  }
 ],
 "metadata": {
  "kernelspec": {
   "display_name": "Python 3",
   "language": "python",
   "name": "python3"
  },
  "language_info": {
   "codemirror_mode": {
    "name": "ipython",
    "version": 3
   },
   "file_extension": ".py",
   "mimetype": "text/x-python",
   "name": "python",
   "nbconvert_exporter": "python",
   "pygments_lexer": "ipython3",
   "version": "3.7.9"
  },
  "varInspector": {
   "cols": {
    "lenName": 16,
    "lenType": 16,
    "lenVar": 40
   },
   "kernels_config": {
    "python": {
     "delete_cmd_postfix": "",
     "delete_cmd_prefix": "del ",
     "library": "var_list.py",
     "varRefreshCmd": "print(var_dic_list())"
    },
    "r": {
     "delete_cmd_postfix": ") ",
     "delete_cmd_prefix": "rm(",
     "library": "var_list.r",
     "varRefreshCmd": "cat(var_dic_list()) "
    }
   },
   "types_to_exclude": [
    "module",
    "function",
    "builtin_function_or_method",
    "instance",
    "_Feature"
   ],
   "window_display": false
  }
 },
 "nbformat": 4,
 "nbformat_minor": 4
}

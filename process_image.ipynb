{
 "cells": [
  {
   "cell_type": "code",
   "execution_count": 59,
   "metadata": {
    "ExecuteTime": {
     "end_time": "2020-12-03T23:28:35.841762Z",
     "start_time": "2020-12-03T23:28:35.823235Z"
    }
   },
   "outputs": [],
   "source": [
    "import os \n",
    "from pathlib import Path\n",
    "import json\n",
    "\n",
    "import geopandas as gpd\n",
    "\n",
    "import matplotlib.pyplot as plt\n",
    "\n",
    "import rasterio as rio\n",
    "from rasterio.plot import show\n",
    "from rasterio.mask import mask"
   ]
  },
  {
   "cell_type": "code",
   "execution_count": 12,
   "metadata": {
    "ExecuteTime": {
     "end_time": "2020-12-03T23:04:44.376987Z",
     "start_time": "2020-12-03T23:04:44.368955Z"
    }
   },
   "outputs": [
    {
     "data": {
      "text/plain": [
       "True"
      ]
     },
     "execution_count": 12,
     "metadata": {},
     "output_type": "execute_result"
    }
   ],
   "source": [
    "# Create paths\n",
    "data_dir_path = os.path.join(str(Path.home()), \"Desktop\", \"forest_mon\", \"data\")\n",
    "\n",
    "image_path = os.path.join(data_dir_path, \"L8\", \"LC08_L1TP_149038_20201028_20201106_01_T1_B2.TIF\")\n",
    "\n",
    "aoi_path = os.path.join(data_dir_path, \"gardens_edit.json\" )"
   ]
  },
  {
   "cell_type": "code",
   "execution_count": 13,
   "metadata": {
    "ExecuteTime": {
     "end_time": "2020-12-03T23:05:11.046659Z",
     "start_time": "2020-12-03T23:05:10.576610Z"
    }
   },
   "outputs": [],
   "source": [
    "# Load area of interest for clipping\n",
    "aoi = gpd.read_file(aoi_path)"
   ]
  },
  {
   "cell_type": "code",
   "execution_count": 19,
   "metadata": {
    "ExecuteTime": {
     "end_time": "2020-12-03T23:06:31.556781Z",
     "start_time": "2020-12-03T23:06:31.537328Z"
    }
   },
   "outputs": [],
   "source": [
    "# Load image\n",
    "band = rio.open(image_path)"
   ]
  },
  {
   "cell_type": "code",
   "execution_count": 22,
   "metadata": {
    "ExecuteTime": {
     "end_time": "2020-12-03T23:07:28.516705Z",
     "start_time": "2020-12-03T23:07:28.238581Z"
    }
   },
   "outputs": [
    {
     "name": "stderr",
     "output_type": "stream",
     "text": [
      "C:\\Users\\dphil\\Miniconda3\\envs\\forest\\lib\\site-packages\\pyproj\\crs\\crs.py:53: FutureWarning: '+init=<authority>:<code>' syntax is deprecated. '<authority>:<code>' is the preferred initialization method. When making the change, be mindful of axis order changes: https://pyproj4.github.io/pyproj/stable/gotchas.html#axis-order-changes-in-proj-6\n",
      "  return _prepare_from_string(\" \".join(pjargs))\n"
     ]
    }
   ],
   "source": [
    "# Re-project gdf into same CRS as data\n",
    "aoi_reproj = aoi.to_crs(crs=band.crs.data)"
   ]
  },
  {
   "cell_type": "code",
   "execution_count": 44,
   "metadata": {
    "ExecuteTime": {
     "end_time": "2020-12-03T23:23:20.861754Z",
     "start_time": "2020-12-03T23:23:20.843368Z"
    }
   },
   "outputs": [],
   "source": [
    "# Convert coordinates into form that rasterio likes\n",
    "aoi_reproj_json = [json.loads(aoi_reproj.to_json())['features'][0]['geometry']]\n",
    "#aoi_reproj_json"
   ]
  },
  {
   "cell_type": "code",
   "execution_count": 45,
   "metadata": {
    "ExecuteTime": {
     "end_time": "2020-12-03T23:23:22.221764Z",
     "start_time": "2020-12-03T23:23:21.793590Z"
    }
   },
   "outputs": [],
   "source": [
    "# Clip the image\n",
    "out_img, out_transform = mask(dataset=band, shapes=aoi_reproj_json, crop=True)"
   ]
  },
  {
   "cell_type": "code",
   "execution_count": 56,
   "metadata": {
    "ExecuteTime": {
     "end_time": "2020-12-03T23:26:49.442090Z",
     "start_time": "2020-12-03T23:26:49.423521Z"
    }
   },
   "outputs": [
    {
     "name": "stdout",
     "output_type": "stream",
     "text": [
      "32643\n"
     ]
    }
   ],
   "source": [
    "# Modify metadata: copy from original file\n",
    "out_meta = band.meta.copy()\n",
    "\n",
    "# Get epsg code from original data\n",
    "epsg_code = band.crs.data['init'][5:]"
   ]
  },
  {
   "cell_type": "code",
   "execution_count": 57,
   "metadata": {
    "ExecuteTime": {
     "end_time": "2020-12-03T23:27:36.871721Z",
     "start_time": "2020-12-03T23:27:36.843239Z"
    }
   },
   "outputs": [
    {
     "data": {
      "text/plain": [
       "(1, 3, 2)"
      ]
     },
     "execution_count": 57,
     "metadata": {},
     "output_type": "execute_result"
    }
   ],
   "source": [
    "out_img.shape"
   ]
  },
  {
   "cell_type": "code",
   "execution_count": 63,
   "metadata": {
    "ExecuteTime": {
     "end_time": "2020-12-03T23:30:04.751934Z",
     "start_time": "2020-12-03T23:30:04.721494Z"
    }
   },
   "outputs": [],
   "source": [
    "# Update metadata with new stuff\n",
    "out_meta.update({\"driver\": \"GTiff\",\n",
    "                \"height\": out_img.shape[1],\n",
    "                \"width\": out_img.shape[2],\n",
    "                \"transform\": out_transform,\n",
    "                \"crs\": rio.crs.CRS.from_epsg(epsg_code)})"
   ]
  },
  {
   "cell_type": "code",
   "execution_count": 65,
   "metadata": {
    "ExecuteTime": {
     "end_time": "2020-12-03T23:31:00.041817Z",
     "start_time": "2020-12-03T23:31:00.032682Z"
    }
   },
   "outputs": [],
   "source": [
    "out_tif = \"test_clip.tif\""
   ]
  },
  {
   "cell_type": "code",
   "execution_count": 66,
   "metadata": {
    "ExecuteTime": {
     "end_time": "2020-12-03T23:31:03.101648Z",
     "start_time": "2020-12-03T23:31:02.522284Z"
    }
   },
   "outputs": [],
   "source": [
    "with rio.open(out_tif, \"w\", **out_meta) as dest:\n",
    "    dest.write(out_img)"
   ]
  },
  {
   "cell_type": "code",
   "execution_count": 71,
   "metadata": {
    "ExecuteTime": {
     "end_time": "2020-12-03T23:32:43.641950Z",
     "start_time": "2020-12-03T23:32:43.613502Z"
    }
   },
   "outputs": [],
   "source": [
    "clipped = rio.open(out_tif)"
   ]
  },
  {
   "cell_type": "code",
   "execution_count": 76,
   "metadata": {
    "ExecuteTime": {
     "end_time": "2020-12-03T23:34:35.261532Z",
     "start_time": "2020-12-03T23:34:35.083733Z"
    }
   },
   "outputs": [
    {
     "data": {
      "text/plain": [
       "<AxesSubplot:>"
      ]
     },
     "execution_count": 76,
     "metadata": {},
     "output_type": "execute_result"
    },
    {
     "data": {
      "image/png": "[encoded data removed]",
      "text/plain": [
       "<Figure size 432x288 with 1 Axes>"
      ]
     },
     "metadata": {
      "needs_background": "light"
     },
     "output_type": "display_data"
    }
   ],
   "source": [
    "fig, ax = plt.subplots()\n",
    "\n",
    "show(clipped, ax=ax)\n",
    "\n",
    "#show(band, ax=ax)"
   ]
  },
  {
   "cell_type": "code",
   "execution_count": null,
   "metadata": {},
   "outputs": [],
   "source": []
  }
 ],
 "metadata": {
  "kernelspec": {
   "display_name": "Python 3",
   "language": "python",
   "name": "python3"
  },
  "language_info": {
   "codemirror_mode": {
    "name": "ipython",
    "version": 3
   },
   "file_extension": ".py",
   "mimetype": "text/x-python",
   "name": "python",
   "nbconvert_exporter": "python",
   "pygments_lexer": "ipython3",
   "version": "3.7.9"
  },
  "varInspector": {
   "cols": {
    "lenName": 16,
    "lenType": 16,
    "lenVar": 40
   },
   "kernels_config": {
    "python": {
     "delete_cmd_postfix": "",
     "delete_cmd_prefix": "del ",
     "library": "var_list.py",
     "varRefreshCmd": "print(var_dic_list())"
    },
    "r": {
     "delete_cmd_postfix": ") ",
     "delete_cmd_prefix": "rm(",
     "library": "var_list.r",
     "varRefreshCmd": "cat(var_dic_list()) "
    }
   },
   "types_to_exclude": [
    "module",
    "function",
    "builtin_function_or_method",
    "instance",
    "_Feature"
   ],
   "window_display": false
  }
 },
 "nbformat": 4,
 "nbformat_minor": 4
}
